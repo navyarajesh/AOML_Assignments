{
 "cells": [
  {
   "cell_type": "code",
   "execution_count": 2,
   "id": "431ac609",
   "metadata": {},
   "outputs": [
    {
     "name": "stdout",
     "output_type": "stream",
     "text": [
      "Predicted class: 0\n"
     ]
    }
   ],
   "source": [
    "import joblib\n",
    "import pandas as pd\n",
    "\n",
    "# Load saved scaler, encoder, and model\n",
    "scaler = joblib.load('scaler.pkl')\n",
    "encoder = joblib.load('encoder.pkl')\n",
    "best_model = joblib.load('best_model.pkl')\n",
    "\n",
    "# Example test sample (assuming a similar structure to your data)\n",
    "test_sample = pd.DataFrame({\n",
    "    'Pregnancies': [2],\n",
    "    'Glucose': [120],\n",
    "    'BloodPressure': [70],\n",
    "    'SkinThickness': [30],\n",
    "    'Insulin': [90],\n",
    "    'BMI': [25],\n",
    "    'DiabetesPedigreeFunction': [0.5],\n",
    "    'Age': [30],\n",
    "    'BMI_category': ['Normal weight']\n",
    "})\n",
    "\n",
    "numeric_features = ['Pregnancies', 'Glucose', 'BloodPressure', 'SkinThickness', 'Insulin', 'BMI', 'DiabetesPedigreeFunction', 'Age']\n",
    "\n",
    "\n",
    "# Apply same preprocessing steps as during training\n",
    "test_sample[numeric_features] = scaler.transform(test_sample[numeric_features])\n",
    "encoded_test = pd.DataFrame(encoder.transform(test_sample[['BMI_category']]), columns=encoder.get_feature_names_out())\n",
    "test_sample = pd.concat([test_sample.reset_index(drop=True), encoded_test], axis=1).drop(columns=['BMI_category'])\n",
    "\n",
    "# Predict using the best model\n",
    "prediction = best_model.predict(test_sample)\n",
    "\n",
    "# Print the predicted class (0 or 1)\n",
    "print(f\"Predicted class: {prediction[0]}\")\n"
   ]
  }
 ],
 "metadata": {
  "kernelspec": {
   "display_name": "Python 3 (ipykernel)",
   "language": "python",
   "name": "python3"
  },
  "language_info": {
   "codemirror_mode": {
    "name": "ipython",
    "version": 3
   },
   "file_extension": ".py",
   "mimetype": "text/x-python",
   "name": "python",
   "nbconvert_exporter": "python",
   "pygments_lexer": "ipython3",
   "version": "3.11.5"
  }
 },
 "nbformat": 4,
 "nbformat_minor": 5
}
